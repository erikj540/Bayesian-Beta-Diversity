{
 "cells": [
  {
   "cell_type": "markdown",
   "metadata": {},
   "source": [
    "# Imports"
   ]
  },
  {
   "cell_type": "code",
   "execution_count": 31,
   "metadata": {},
   "outputs": [],
   "source": [
    "import sys\n",
    "import warnings\n",
    "warnings.filterwarnings(\"ignore\") # to suppress RunTime warnings\n",
    "\n",
    "from bro.plot_utils import finalize, fig_setup\n",
    "from bro.repertoire_and_countdata import DistributionComputations, GenerateCountData, ProcessJointPdfs, generate_count_data_and_compute_joint_pdf"
   ]
  },
  {
   "cell_type": "markdown",
   "metadata": {},
   "source": [
    "# Example"
   ]
  },
  {
   "cell_type": "code",
   "execution_count": 24,
   "metadata": {},
   "outputs": [],
   "source": [
    "# Define the ground truth for simulated count data\n",
    "s, Ra, Rb, ma, mb = 20, 60, 70, 50, 50\n",
    "\n",
    "# Generate simulated count data\n",
    "data = GenerateCountData(s, Ra, Rb, ma, mb)\n",
    "data.__dict__.keys()\n",
    "\n",
    "# Given the count data and a prior on the repertoire sizes, calculate the joint PDF of s, Ra, and Rb\n",
    "Ra_prior = np.load('./R_poisson_prior.npy')\n",
    "Rb_prior = np.load('./R_poisson_prior.npy')\n",
    "\n",
    "comp_engine = DistributionComputations()\n",
    "joint_pdf = comp_engine.calculate_joint_pdf_from_count_data(data, Ra_prior, Rb_prior)"
   ]
  },
  {
   "cell_type": "code",
   "execution_count": 27,
   "metadata": {},
   "outputs": [
    {
     "data": {
      "text/plain": [
       "{'low': 12.0,\n",
       " 'mean': 20.34534481878179,\n",
       " 'high': 36.0,\n",
       " 'ci_prob': 0.9501859589886784}"
      ]
     },
     "execution_count": 27,
     "metadata": {},
     "output_type": "execute_result"
    }
   ],
   "source": [
    "# Compute the marginal PDF of, e.g., s, the mean of the marginal distribution, and the 95% credible interval bounds\n",
    "proc = ProcessJointPdfs()\n",
    "s_results = proc.compute_marginal_and_ci_from_joint_pdf(\n",
    "    's', joint_pdf, prob=0.95,\n",
    ")\n",
    "s_results['ci']"
   ]
  }
 ],
 "metadata": {
  "kernelspec": {
   "display_name": "bro",
   "language": "python",
   "name": "bro"
  },
  "language_info": {
   "codemirror_mode": {
    "name": "ipython",
    "version": 3
   },
   "file_extension": ".py",
   "mimetype": "text/x-python",
   "name": "python",
   "nbconvert_exporter": "python",
   "pygments_lexer": "ipython3",
   "version": "3.7.6"
  },
  "toc": {
   "base_numbering": 1,
   "nav_menu": {},
   "number_sections": true,
   "sideBar": true,
   "skip_h1_title": false,
   "title_cell": "Table of Contents",
   "title_sidebar": "Contents",
   "toc_cell": false,
   "toc_position": {},
   "toc_section_display": true,
   "toc_window_display": false
  }
 },
 "nbformat": 4,
 "nbformat_minor": 4
}

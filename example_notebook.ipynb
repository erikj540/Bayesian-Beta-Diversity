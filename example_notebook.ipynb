{
 "cells": [
  {
   "cell_type": "markdown",
   "metadata": {},
   "source": [
    "# Imports"
   ]
  },
  {
   "cell_type": "code",
   "execution_count": 12,
   "metadata": {},
   "outputs": [],
   "source": [
    "import sys\n",
    "import warnings\n",
    "warnings.filterwarnings(\"ignore\") # to suppress RunTime warnings\n",
    "\n",
    "sys.path.append('./bro/bro')\n",
    "from plot_utils import finalize, fig_setup\n",
    "from repertoire_and_countdata import DistributionComputations, GenerateCountData, ProcessJointPdfs, generate_count_data_and_compute_joint_pdf\n",
    "from bro.utilityfunctions import uniform_distribution_pdf"
   ]
  },
  {
   "cell_type": "markdown",
   "metadata": {},
   "source": [
    "# Example"
   ]
  },
  {
   "cell_type": "code",
   "execution_count": 9,
   "metadata": {},
   "outputs": [
    {
     "data": {
      "text/plain": [
       "dict_keys(['s', 'Ra', 'Rb', 'ma', 'mb', 'count_data'])"
      ]
     },
     "execution_count": 9,
     "metadata": {},
     "output_type": "execute_result"
    }
   ],
   "source": [
    "# Define the ground truth for simulated count data\n",
    "s, Ra, Rb, ma, mb = 20, 60, 70, 50, 50\n",
    "\n",
    "# Generate simulated count data\n",
    "data = GenerateCountData(s, Ra, Rb, ma, mb)\n",
    "\n",
    "# Given the count data and a prior on the repertoire sizes, calculate the joint PDF of s, Ra, and Rb\n",
    "Ra_prior = np.load('./R_poisson_prior.npy')\n",
    "Rb_prior = np.load('./R_poisson_prior.npy')\n",
    "\n",
    "comp_engine = DistributionComputations()\n",
    "joint_pdf = comp_engine.calculate_joint_pdf_from_count_data(data.count_data, Ra_prior, Rb_prior)"
   ]
  },
  {
   "cell_type": "code",
   "execution_count": 11,
   "metadata": {
    "scrolled": true
   },
   "outputs": [
    {
     "data": {
      "text/plain": [
       "{'low': 14.0,\n",
       " 'mean': 22.415593636756288,\n",
       " 'high': 40.0,\n",
       " 'ci_prob': 0.9501718678778159}"
      ]
     },
     "execution_count": 11,
     "metadata": {},
     "output_type": "execute_result"
    }
   ],
   "source": [
    "# Compute the marginal PDF of, e.g., s, the mean of the marginal distribution, and the 95% credible interval bounds\n",
    "proc = ProcessJointPdfs()\n",
    "s_results = proc.compute_marginal_and_ci_from_joint_pdf(\n",
    "    's', joint_pdf, prob=0.95,\n",
    ")\n",
    "s_results['ci']"
   ]
  }
 ],
 "metadata": {
  "kernelspec": {
   "display_name": "git_bro",
   "language": "python",
   "name": "git_bro"
  },
  "language_info": {
   "codemirror_mode": {
    "name": "ipython",
    "version": 3
   },
   "file_extension": ".py",
   "mimetype": "text/x-python",
   "name": "python",
   "nbconvert_exporter": "python",
   "pygments_lexer": "ipython3",
   "version": "3.8.4"
  },
  "toc": {
   "base_numbering": 1,
   "nav_menu": {},
   "number_sections": true,
   "sideBar": true,
   "skip_h1_title": false,
   "title_cell": "Table of Contents",
   "title_sidebar": "Contents",
   "toc_cell": false,
   "toc_position": {},
   "toc_section_display": true,
   "toc_window_display": false
  }
 },
 "nbformat": 4,
 "nbformat_minor": 4
}

{
 "cells": [
  {
   "cell_type": "code",
   "execution_count": 5,
   "id": "39d5f754",
   "metadata": {},
   "outputs": [
    {
     "ename": "ModuleNotFoundError",
     "evalue": "No module named 'bro.repertoire_and_countdata'",
     "output_type": "error",
     "traceback": [
      "\u001b[0;31m---------------------------------------------------------------------------\u001b[0m",
      "\u001b[0;31mModuleNotFoundError\u001b[0m                       Traceback (most recent call last)",
      "\u001b[0;32m<ipython-input-5-8bd082d93d57>\u001b[0m in \u001b[0;36m<module>\u001b[0;34m\u001b[0m\n\u001b[1;32m      4\u001b[0m \u001b[0;34m\u001b[0m\u001b[0m\n\u001b[1;32m      5\u001b[0m \u001b[0;31m# from bro.plot_utils import finalize, fig_setup\u001b[0m\u001b[0;34m\u001b[0m\u001b[0;34m\u001b[0m\u001b[0;34m\u001b[0m\u001b[0m\n\u001b[0;32m----> 6\u001b[0;31m \u001b[0;32mfrom\u001b[0m \u001b[0mbro\u001b[0m\u001b[0;34m.\u001b[0m\u001b[0mrepertoire_and_countdata\u001b[0m \u001b[0;32mimport\u001b[0m \u001b[0mDistributionComputations\u001b[0m\u001b[0;34m,\u001b[0m \u001b[0mGenerateCountData\u001b[0m\u001b[0;34m,\u001b[0m \u001b[0mProcessJointPdfs\u001b[0m\u001b[0;34m,\u001b[0m \u001b[0mgenerate_count_data_and_compute_joint_pdf\u001b[0m\u001b[0;34m\u001b[0m\u001b[0;34m\u001b[0m\u001b[0m\n\u001b[0m",
      "\u001b[0;31mModuleNotFoundError\u001b[0m: No module named 'bro.repertoire_and_countdata'"
     ]
    }
   ],
   "source": [
    "import sys\n",
    "import warnings\n",
    "warnings.filterwarnings(\"ignore\") # to suppress RunTime warnings\n",
    "\n",
    "# from bro.plot_utils import finalize, fig_setup\n",
    "from bro.repertoire_and_countdata import DistributionComputations, GenerateCountData, ProcessJointPdfs, generate_count_data_and_compute_joint_pdf"
   ]
  }
 ],
 "metadata": {
  "kernelspec": {
   "display_name": "git_bro",
   "language": "python",
   "name": "git_bro"
  },
  "language_info": {
   "codemirror_mode": {
    "name": "ipython",
    "version": 3
   },
   "file_extension": ".py",
   "mimetype": "text/x-python",
   "name": "python",
   "nbconvert_exporter": "python",
   "pygments_lexer": "ipython3",
   "version": "3.8.4"
  },
  "toc": {
   "base_numbering": 1,
   "nav_menu": {},
   "number_sections": true,
   "sideBar": true,
   "skip_h1_title": false,
   "title_cell": "Table of Contents",
   "title_sidebar": "Contents",
   "toc_cell": false,
   "toc_position": {},
   "toc_section_display": true,
   "toc_window_display": false
  }
 },
 "nbformat": 4,
 "nbformat_minor": 5
}
